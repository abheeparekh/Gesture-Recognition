{
 "cells": [
  {
   "cell_type": "code",
   "execution_count": 11,
   "metadata": {},
   "outputs": [],
   "source": [
    "import pandas as pd\n",
    "import math\n",
    "import scipy\n",
    "from sklearn import preprocessing\n",
    "from scipy.stats import norm\n",
    "from scipy.integrate import quad\n",
    "import numpy as np\n",
    "import matplotlib.pyplot as plt\n",
    "import seaborn as sns\n",
    "import os\n",
    "import glob\n",
    "import heapq"
   ]
  },
  {
   "cell_type": "code",
   "execution_count": 12,
   "metadata": {
    "scrolled": true
   },
   "outputs": [
    {
     "name": "stdout",
     "output_type": "stream",
     "text": [
      "Enter absolute directory path to data files => C:\\ Users\\.......\\ sample data \\ Z\n",
      "C:\\Users\\abhee\\Desktop\\asu\\cse 515(mwdb)\\project\\phase1\\sample_data\\Z\n"
     ]
    }
   ],
   "source": [
    "#Task 4\n",
    "\n",
    "print('Enter absolute directory path to data files => C:\\ Users\\.......\\ sample data \\ Z')\n",
    "directory = input()\n",
    "# directory =  \"C:\\\\Users\\\\abhee\\\\Desktop\\\\asu\\\\cse 515(mwdb)\\\\project\\\\phase1\\\\sample_data\\\\Z\"\n",
    "\n",
    "# change the current directory to data files directory\n",
    "os.chdir(directory)\n",
    "all_files = glob.glob('*.csv')\n",
    "total_files = len(all_files)\n",
    "\n",
    "vector_file = open(\"vectors.txt\", \"r\")\n",
    "\n",
    "file_string = vector_file.read()\n",
    "data_list = file_string.split('\\n')\n",
    "\n",
    "tf = [[] for _ in range(total_files)]\n",
    "tfidf = [[] for _ in range(total_files)]\n",
    "tfidf2 = [[] for _ in range(total_files)]\n",
    "feature_list1 = []\n",
    "feature_list2 = []\n",
    "\n",
    "for line in data_list:\n",
    "    word_list = line.split(',')\n",
    "    \n",
    "    data_type = word_list[0]\n",
    "    curr_file = int(word_list[1])\n",
    "    if len(word_list) == 0:\n",
    "        continue\n",
    "    elif data_type == 'TF':\n",
    "        tf[curr_file-1] = list(map(float, word_list[2:])) \n",
    "    elif data_type == 'TFIDF':\n",
    "        tfidf[curr_file-1] = list(map(float, word_list[2:])) \n",
    "    elif data_type == 'TFIDF2':\n",
    "        tfidf2[curr_file-1] = list(map(float, word_list[2:])) \n",
    "    elif data_type == 'FeatureList1':\n",
    "        feature_list1 = word_list[2:]\n",
    "    elif data_type == 'FeatureList2':\n",
    "        feature_list2 = word_list[2:]\n",
    "\n",
    "vector_file.close()"
   ]
  },
  {
   "cell_type": "code",
   "execution_count": 36,
   "metadata": {},
   "outputs": [
    {
     "name": "stdout",
     "output_type": "stream",
     "text": [
      "Enter gesture file number to for which most similar gestures are to be found\n",
      "66\n"
     ]
    }
   ],
   "source": [
    "print('Enter gesture file number to for which most similar gestures are to be found')\n",
    "gesture_file = int(input())\n",
    "# account for zero indexing\n",
    "gesture_file -= 1\n",
    "\n",
    "distance_tf = [0]*(total_files)\n",
    "distance_tfidf = [0]*(total_files)\n",
    "distance_tfidf2 = [0]*(total_files)\n",
    "\n",
    "# intersection distance -- large value implies more similarity --\n",
    "def distance_between_vectors(v1, v2):\n",
    "    n = len(v1)\n",
    "    distance = 0\n",
    "    for i in range(n):\n",
    "        if v1[i] != 0 and v2[i] != 0:  \n",
    "            distance += min(v1[i], v2[i])/max(v1[i], v2[i])\n",
    "    return distance\n",
    "        \n",
    "for i in range(total_files):\n",
    "    distance_tf[i] = distance_between_vectors(tf[gesture_file], tf[i])\n",
    "    distance_tfidf[i] = distance_between_vectors(tfidf[gesture_file], tfidf[i])\n",
    "    distance_tfidf2[i] = distance_between_vectors(tfidf2[gesture_file], tfidf2[i])\n",
    "\n",
    "# use max heap to find 10 most similar gesture\n",
    "heap_tf = []\n",
    "heap_tfidf = []\n",
    "heap_tfidf2 = []\n",
    "   \n",
    "for i in range(total_files):\n",
    "    heapq.heappush(heap_tf, (-distance_tf[i], i))\n",
    "    heapq.heappush(heap_tfidf, (-distance_tfidf[i], i))\n",
    "    heapq.heappush(heap_tfidf2, (-distance_tfidf2[i], i))\n",
    "\n",
    "# result list to store 10 most similar gesture\n",
    "tf_result = []\n",
    "tfidf_result = []\n",
    "tfidf2_result = []\n",
    "\n",
    "for i in range(10):\n",
    "    dist, filenumber = heapq.heappop(heap_tf)\n",
    "    tf_result.append(filenumber+1)\n",
    "    dist, filenumber = heapq.heappop(heap_tfidf)\n",
    "    tfidf_result.append(filenumber+1)\n",
    "    dist, filenumber = heapq.heappop(heap_tfidf2)\n",
    "    tfidf2_result.append(filenumber+1)"
   ]
  },
  {
   "cell_type": "code",
   "execution_count": 39,
   "metadata": {},
   "outputs": [
    {
     "name": "stdout",
     "output_type": "stream",
     "text": [
      "Enter the data type on which 10 most similar gesture are to be found\n",
      "tf / tfidf / tfidf2 (Enter Lower Case Characters)\n",
      "tfidf2\n",
      "Most Similar 0: Gesture File 66\n",
      "Most Similar 1: Gesture File 23\n",
      "Most Similar 2: Gesture File 20\n",
      "Most Similar 3: Gesture File 26\n",
      "Most Similar 4: Gesture File 50\n",
      "Most Similar 5: Gesture File 22\n",
      "Most Similar 6: Gesture File 1\n",
      "Most Similar 7: Gesture File 15\n",
      "Most Similar 8: Gesture File 42\n",
      "Most Similar 9: Gesture File 39\n"
     ]
    }
   ],
   "source": [
    "print('Enter the data type on which 10 most similar gesture are to be found')\n",
    "print('tf / tfidf / tfidf2 (Enter Lower Case Characters)')\n",
    "datatype = input()\n",
    "result = []\n",
    "if datatype == 'tf':\n",
    "    result = tf_result\n",
    "elif datatype == 'tfidf':\n",
    "    result = tfidf_result\n",
    "elif datatype == 'tfidf2':\n",
    "    result = tfidf2_result\n",
    "else:\n",
    "    print('Incorrect data type. Read instructions and enter correct data type')\n",
    "\n",
    "for i in range(len(result)):\n",
    "    print('Most Similar {0}: Gesture File {1}'.format(i, result[i]))"
   ]
  },
  {
   "cell_type": "code",
   "execution_count": null,
   "metadata": {},
   "outputs": [],
   "source": []
  }
 ],
 "metadata": {
  "kernelspec": {
   "display_name": "Python 3",
   "language": "python",
   "name": "python3"
  },
  "language_info": {
   "codemirror_mode": {
    "name": "ipython",
    "version": 3
   },
   "file_extension": ".py",
   "mimetype": "text/x-python",
   "name": "python",
   "nbconvert_exporter": "python",
   "pygments_lexer": "ipython3",
   "version": "3.7.7"
  }
 },
 "nbformat": 4,
 "nbformat_minor": 4
}
