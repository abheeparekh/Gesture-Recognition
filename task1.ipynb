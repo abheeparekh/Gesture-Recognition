{
 "cells": [
  {
   "cell_type": "code",
   "execution_count": 32,
   "metadata": {},
   "outputs": [],
   "source": [
    "import pandas as pd\n",
    "import math\n",
    "import scipy\n",
    "from sklearn import preprocessing\n",
    "from scipy.stats import norm\n",
    "from scipy.integrate import quad\n",
    "import numpy as np\n",
    "import matplotlib.pyplot as plt\n",
    "import seaborn as sns\n",
    "import os\n",
    "import glob"
   ]
  },
  {
   "cell_type": "code",
   "execution_count": 33,
   "metadata": {},
   "outputs": [],
   "source": [
    "# Read input file\n",
    "def readFile(directory, filename):\n",
    "    filepath = '{0}.csv'.format(filename)\n",
    "    df = pd.read_csv(filepath, header = None)\n",
    "    return df"
   ]
  },
  {
   "cell_type": "code",
   "execution_count": 34,
   "metadata": {},
   "outputs": [],
   "source": [
    "# Task 1a - Normalize the time series with bound -1 and 1\n",
    "def normalizeDataFrame(df):\n",
    "    def norm(x):\n",
    "        return 2*(x - x.min())/(x.max()- x.min()) - 1\n",
    "    n_df = df.apply(norm, axis = 1)\n",
    "    return n_df.T"
   ]
  },
  {
   "cell_type": "code",
   "execution_count": 35,
   "metadata": {},
   "outputs": [],
   "source": [
    "# Task 1b: To quantize the time series with a resolution of 3\n",
    "def quantizeDataFrame(n_df, resolution=3):\n",
    "    x_min = -1.0\n",
    "    x_max = 1.0\n",
    "    mean = 0.0\n",
    "    std = 0.25\n",
    "\n",
    "    x = np.linspace(x_min, x_max, 1000)\n",
    "    y = scipy.stats.norm.pdf(x,mean,std)\n",
    "    # plt.plot(x,y, color='black')\n",
    "\n",
    "    def normal_distribution_function(x):\n",
    "        value = scipy.stats.norm.pdf(x,mean,std)\n",
    "        return value\n",
    "    \n",
    "    part_size = [-1] + [0]*(2*resolution)\n",
    "    delta = 2/(2*resolution)\n",
    "    total_area, err = quad(normal_distribution_function, x_min, x_max)\n",
    "    \n",
    "    for i in range(1, 2*resolution+1):\n",
    "        res, err = quad(normal_distribution_function, (i-resolution-1)/resolution, (i-resolution)/resolution)\n",
    "        part_size[i] = 2*res/total_area\n",
    "    \n",
    "    for i in range(1, len(part_size)):\n",
    "        part_size[i] += part_size[i-1]\n",
    "    \n",
    "    # to account for boundary condition\n",
    "    part_size[-1] = 1.01   \n",
    "    \n",
    "    digitize_df = np.digitize( n_df, bins = part_size, right = False)\n",
    "    return digitize_df"
   ]
  },
  {
   "cell_type": "code",
   "execution_count": 36,
   "metadata": {},
   "outputs": [],
   "source": [
    "# Task 1c - To convert times series into words of length 3 and shift 2 and write to f.wrd file\n",
    "def shiftAndWrite(digitize_df, filename, window=3, shift=2):\n",
    "    m, n = digitize_df.shape\n",
    "    word_list = []\n",
    "    tmp = '' \n",
    "    for i in range(n):\n",
    "        for j in range(0,m-window+1, shift):\n",
    "            tmp = str(filename) + ',' + str(i) + ',' + str(j) + ',' \n",
    "            for k in range(window):\n",
    "                tmp += str(digitize_df[j+k,i])\n",
    "            word_list.append(tmp)\n",
    "    f.write('\\n'.join(word_list))"
   ]
  },
  {
   "cell_type": "code",
   "execution_count": 37,
   "metadata": {
    "scrolled": true
   },
   "outputs": [
    {
     "name": "stdout",
     "output_type": "stream",
     "text": [
      "Enter absolute directory path to data files  => C:\\ Users\\....... \\ sample data\\ Z\n",
      "C:\\Users\\abhee\\Desktop\\asu\\cse 515(mwdb)\\project\\phase1\\sample_data\\Z\n",
      "enter window length\n",
      "3\n",
      "enter shift length\n",
      "2\n",
      "enter resolution\n",
      "3\n",
      "task1 completed\n"
     ]
    }
   ],
   "source": [
    "# Task 1: Main\n",
    "\n",
    "print('Enter absolute directory path to data files  => C:\\ Users\\....... \\ sample data\\ Z')\n",
    "directory = input()\n",
    "# directory =  \"C:\\\\Users\\\\abhee\\\\Desktop\\\\asu\\\\cse 515(mwdb)\\\\project\\\\phase1\\\\sample_data\\\\Z\"\n",
    "\n",
    "# change the current directory to data files directory\n",
    "os.chdir(directory)\n",
    "all_files = glob.glob('*.csv')\n",
    "total_files = len(all_files)\n",
    "\n",
    "print('enter window length')\n",
    "window = int(input())\n",
    "# window = 3\n",
    "print('enter shift length')\n",
    "shift = int(input())\n",
    "# shift = 2\n",
    "print('enter resolution')\n",
    "resolution = int(input())\n",
    "# resolution = 3\n",
    "\n",
    "\n",
    "for filename in range(1, total_files+1):\n",
    "    f = open(\"{0}.wrd\".format(filename), \"w\")\n",
    "    df = readFile(directory, filename)\n",
    "    n_df = normalizeDataFrame(df)\n",
    "    digitize_df = quantizeDataFrame(n_df, resolution)\n",
    "    shiftAndWrite(digitize_df, filename, window, shift) \n",
    "    f.close()\n",
    "    \n",
    "print('task1 completed')"
   ]
  },
  {
   "cell_type": "code",
   "execution_count": null,
   "metadata": {},
   "outputs": [],
   "source": []
  }
 ],
 "metadata": {
  "kernelspec": {
   "display_name": "Python 3",
   "language": "python",
   "name": "python3"
  },
  "language_info": {
   "codemirror_mode": {
    "name": "ipython",
    "version": 3
   },
   "file_extension": ".py",
   "mimetype": "text/x-python",
   "name": "python",
   "nbconvert_exporter": "python",
   "pygments_lexer": "ipython3",
   "version": "3.7.7"
  }
 },
 "nbformat": 4,
 "nbformat_minor": 4
}
