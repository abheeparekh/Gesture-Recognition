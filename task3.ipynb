{
 "cells": [
  {
   "cell_type": "code",
   "execution_count": 26,
   "metadata": {},
   "outputs": [],
   "source": [
    "import pandas as pd\n",
    "import math\n",
    "import scipy\n",
    "from sklearn import preprocessing\n",
    "from scipy.stats import norm\n",
    "from scipy.integrate import quad\n",
    "import numpy as np\n",
    "import matplotlib.pyplot as plt\n",
    "import seaborn as sns\n",
    "import os\n",
    "import glob"
   ]
  },
  {
   "cell_type": "code",
   "execution_count": 27,
   "metadata": {},
   "outputs": [
    {
     "name": "stdout",
     "output_type": "stream",
     "text": [
      "Enter absolute directory path to data files => C:\\ Users\\.......\\ sample data \\ Z\n",
      "C:\\Users\\abhee\\Desktop\\asu\\cse 515(mwdb)\\project\\phase1\\sample_data\\Z\n"
     ]
    }
   ],
   "source": [
    "#Task 3\n",
    "\n",
    "print('Enter absolute directory path to data files => C:\\ Users\\.......\\ sample data \\ Z')\n",
    "directory = input()\n",
    "# directory =  \"C:\\\\Users\\\\abhee\\\\Desktop\\\\asu\\\\cse 515(mwdb)\\\\project\\\\phase1\\\\sample_data\\\\Z\"\n",
    "\n",
    "# change the current directory to data files directory\n",
    "os.chdir(directory)\n",
    "all_files = glob.glob('*.csv')\n",
    "total_files = len(all_files)\n",
    "\n",
    "vector_file = open(\"vectors.txt\", \"r\")\n",
    "\n",
    "file_string = vector_file.read()\n",
    "data_list = file_string.split('\\n')\n",
    "\n",
    "tf = [[] for _ in range(total_files)]\n",
    "tfidf = [[] for _ in range(total_files)]\n",
    "tfidf2 = [[] for _ in range(total_files)]\n",
    "feature_list1 = []\n",
    "\n",
    "for line in data_list:\n",
    "    word_list = line.split(',')\n",
    "    \n",
    "    data_type = word_list[0]\n",
    "    curr_file = int(word_list[1])\n",
    "    if len(word_list) == 0:\n",
    "        continue\n",
    "    elif data_type == 'TF':\n",
    "        tf[curr_file-1] = list(map(float, word_list[2:])) \n",
    "    elif data_type == 'TFIDF':\n",
    "        tfidf[curr_file-1] = list(map(float, word_list[2:])) \n",
    "    elif data_type == 'TFIDF2':\n",
    "        tfidf2[curr_file-1] = list(map(float, word_list[2:])) \n",
    "    elif data_type == 'FeatureList1':\n",
    "        feature_list1 = word_list[2:]\n",
    "\n",
    "vector_file.close()"
   ]
  },
  {
   "cell_type": "code",
   "execution_count": 42,
   "metadata": {},
   "outputs": [
    {
     "name": "stdout",
     "output_type": "stream",
     "text": [
      "Enter gesture file number to view in heatmap from 1 to 66\n",
      "Test File 1-6 are from file 61 to 66\n",
      "66\n"
     ]
    }
   ],
   "source": [
    "print('Enter gesture file number to view in heatmap from 1 to 66')\n",
    "print('Test File 1-6 are from file 61 to 66')\n",
    "gesture_file = int(input())\n",
    "total_sensors = 20\n",
    "\n",
    "f = open('{0}.wrd'.format(gesture_file),'r')\n",
    "file_string = f.read()\n",
    "f.close()\n",
    "\n",
    "# to account for zero indexing\n",
    "gesture_file -= 1\n",
    "\n",
    "data_list = file_string.split('\\n')\n",
    "\n",
    "heatmap_tf = [[] for _ in range(total_sensors)]\n",
    "heatmap_tfidf = [[] for _ in range(total_sensors)]\n",
    "heatmap_tfidf2 = [[] for _ in range(total_sensors)]\n",
    "\n",
    "for word in data_list:\n",
    "    word_list = word.split(',')\n",
    "    curr_sensor = int(word_list[1])\n",
    "    feature1 = word_list[3]\n",
    "    index1 = feature_list1.index(feature1)\n",
    "    tf_val = tf[gesture_file][index1]\n",
    "    tfidf_val = tfidf[gesture_file][index1]\n",
    "    tfidf2_val = tfidf2[gesture_file][index1]\n",
    "    heatmap_tf[curr_sensor].append(tf_val)\n",
    "    heatmap_tfidf[curr_sensor].append(tfidf_val)\n",
    "    heatmap_tfidf2[curr_sensor].append(tfidf2_val)\n",
    "\n",
    "# normalize heatmap values in range 0 to 255\n",
    "def normalize_heatmap(heatmap):\n",
    "    for i in range(len(heatmap)):\n",
    "        row = heatmap[i]\n",
    "        row_max = max(row)\n",
    "        row_min = min(row)\n",
    "        for j in range(len(heatmap[0])):\n",
    "            if (row_max - row_min) != 0:\n",
    "                heatmap[i][j] = 255*(heatmap[i][j] - row_min)/(row_max - row_min)\n",
    "            else:\n",
    "                heatmap[i][j] = 0.0\n",
    "    return heatmap\n",
    "heatmap_tf = normalize_heatmap(heatmap_tf)\n",
    "heatmap_tfidf = normalize_heatmap(heatmap_tfidf)\n",
    "heatmap_tfidf2 = normalize_heatmap(heatmap_tfidf2)"
   ]
  },
  {
   "cell_type": "code",
   "execution_count": 45,
   "metadata": {},
   "outputs": [
    {
     "name": "stdout",
     "output_type": "stream",
     "text": [
      "Enter the data type for plotting heatmap\n",
      "tf / tfidf / tfidf2 (Enter Lower Case Characters)\n",
      "tfidf2\n"
     ]
    },
    {
     "data": {
      "text/plain": [
       "<matplotlib.axes._subplots.AxesSubplot at 0x2d40c9d5388>"
      ]
     },
     "execution_count": 45,
     "metadata": {},
     "output_type": "execute_result"
    },
    {
     "data": {
      "image/png": "[encoded data removed]",
      "text/plain": [
       "<Figure size 432x288 with 2 Axes>"
      ]
     },
     "metadata": {
      "needs_background": "light"
     },
     "output_type": "display_data"
    }
   ],
   "source": [
    "print('Enter the data type for plotting heatmap')\n",
    "print('tf / tfidf / tfidf2 (Enter Lower Case Characters)')\n",
    "data_type = input()\n",
    "heatmap = []\n",
    "\n",
    "if data_type == 'tf':\n",
    "    heatmap = heatmap_tf\n",
    "elif data_type == 'tfidf':\n",
    "    heatmap = heatmap_tfidf\n",
    "elif data_type == 'tfidf2':\n",
    "    heatmap = heatmap_tfidf2\n",
    "else:\n",
    "    print('Incorrect data type. Read instructions and enter correct data type')\n",
    "    \n",
    "x_axis_labels = range(0,len(heatmap[0])*2,2)\n",
    "y_axis_labels = ['Sensor{0}'.format(i+1) for i in range(20)]\n",
    "\n",
    "sns.heatmap(heatmap, cmap='gist_gray', xticklabels=x_axis_labels, yticklabels=y_axis_labels)"
   ]
  },
  {
   "cell_type": "code",
   "execution_count": null,
   "metadata": {},
   "outputs": [],
   "source": []
  }
 ],
 "metadata": {
  "kernelspec": {
   "display_name": "Python 3",
   "language": "python",
   "name": "python3"
  },
  "language_info": {
   "codemirror_mode": {
    "name": "ipython",
    "version": 3
   },
   "file_extension": ".py",
   "mimetype": "text/x-python",
   "name": "python",
   "nbconvert_exporter": "python",
   "pygments_lexer": "ipython3",
   "version": "3.7.7"
  }
 },
 "nbformat": 4,
 "nbformat_minor": 4
}
